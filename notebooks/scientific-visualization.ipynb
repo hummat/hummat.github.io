{
 "cells": [
  {
   "cell_type": "markdown",
   "id": "abc69729",
   "metadata": {},
   "source": [
    "# 1. matplotlib vs LaTeX"
   ]
  },
  {
   "cell_type": "code",
   "execution_count": null,
   "id": "f2e280b8",
   "metadata": {},
   "outputs": [],
   "source": [
    "# Some useful libs for data wrangling\n",
    "import numpy as np  # Scientific computing\n",
    "import scipy  # Scientific and technical computing\n",
    "import pandas as pd  # (Tabular) data manipulation and analysis\n",
    "import statsmodels as sm  # -> Statistical modeling\n",
    "\n",
    "# And some for visualization\n",
    "import matplotlib as mpl  # -> Visualization with Python (inspired by MATLAB)\n",
    "from matplotlib import pyplot as plt  # -> An interactive way to work with matplotlib\n",
    "from matplotlib import pylab  # -> Same as PyPlot but some additional shortcuts (use is discouraged now)\n",
    "import seaborn as sns  # -> Statistical data visualization\n",
    "import colorcet as cc  # -> Collection of perceptually accurate colormaps\n",
    "\n",
    "%matplotlib inline"
   ]
  },
  {
   "cell_type": "markdown",
   "id": "ee80e094",
   "metadata": {},
   "source": [
    "### 1.1 Matplotlib madness"
   ]
  },
  {
   "cell_type": "code",
   "execution_count": null,
   "id": "340e3d21",
   "metadata": {},
   "outputs": [],
   "source": [
    "fig = mpl.figure.Figure()  # -> Figure object: the canvas\n",
    "fig = plt.figure()\n",
    "ax = fig.gca()  # -> Axes object(s): Entry point to access (modify/add/remove) content\n",
    "ax = fig.subplots()\n",
    "fig, ax = plt.subplots()"
   ]
  },
  {
   "cell_type": "markdown",
   "id": "2f1e3d45",
   "metadata": {},
   "source": [
    "### 1.2 Basic figure setup"
   ]
  },
  {
   "cell_type": "code",
   "execution_count": null,
   "id": "b172bfc5",
   "metadata": {},
   "outputs": [],
   "source": [
    "fig, ax = plt.subplots()\n",
    "\n",
    "# fig.set_size_inches((12, 9))\n",
    "# fig.set_dpi(300)  # -> Dots per inch\n",
    "# fig.set_tight_layout(True)\n",
    "\n",
    "# ax.spines.top.set_visible(False)\n",
    "# ax.spines.right.set_visible(False)\n",
    "# ax.tick_params(labelsize=14)\n",
    "\n",
    "plt.show()  # -> Display all open figures\n",
    "# fig.show()  # -> Display this figure"
   ]
  },
  {
   "cell_type": "markdown",
   "id": "54147489",
   "metadata": {},
   "source": [
    "#### 1.2.1 Set size in dots (pixels) instead of inches"
   ]
  },
  {
   "cell_type": "code",
   "execution_count": null,
   "id": "d193e0da",
   "metadata": {},
   "outputs": [],
   "source": [
    "width, height = 640, 480\n",
    "dpi = 300\n",
    "inches_per_dot = 1 / dpi\n",
    "width_inch, height_inch = width * inches_per_dot, height * inches_per_dot\n",
    "\n",
    "fig, ax = plt.subplots(figsize=(width_inch, height_inch), dpi=dpi, tight_layout=True)"
   ]
  },
  {
   "cell_type": "markdown",
   "id": "5ce02efd",
   "metadata": {},
   "source": [
    "### 1.3 Exporting as image\n",
    "* Familiar format\n",
    "* Easy to view/interact with\n",
    "* Can be directly used with `\\includegraphics{figure.png}` in LaTeX"
   ]
  },
  {
   "cell_type": "code",
   "execution_count": null,
   "id": "08fb299f",
   "metadata": {},
   "outputs": [],
   "source": [
    "fig, ax = plt.subplots(figsize=(12, 9), dpi=300, tight_layout=True)\n",
    "\n",
    "# Put your figure code here\n",
    "ax.set_ylabel(r'$\\log N$', fontsize=16)\n",
    "ax.set_xlabel(r'$\\log\\tau$', fontsize=16)\n",
    "\n",
    "plt.savefig(\"figure.png\", format=\"png\", bbox_inches=\"tight\", pad_inches=0)"
   ]
  },
  {
   "cell_type": "markdown",
   "id": "48254783",
   "metadata": {},
   "source": [
    "### 1.4 Export as PDF\n",
    "* Lossless\n",
    "* Can also be directly used with `\\includegraphics{figure.pdf}` in LaTeX"
   ]
  },
  {
   "cell_type": "code",
   "execution_count": null,
   "id": "a7e418a1",
   "metadata": {},
   "outputs": [],
   "source": [
    "plt.savefig(\"figure.pdf\", format=\"pdf\", dpi=300)"
   ]
  },
  {
   "cell_type": "markdown",
   "id": "6c937257",
   "metadata": {},
   "source": [
    "### 1.5 Export as SVG\n",
    "* Vector format (infinite resolution)\n",
    "* Needs additional packages for LaTeX import\n",
    "* Alternative: Convert to PDF\n",
    "  * `inkscape -D image.svg -o image.pdf --export-latex`\n",
    "  * This puts the figure text into a .tex file for proper typesetting in LaTeX"
   ]
  },
  {
   "cell_type": "code",
   "execution_count": null,
   "id": "1c6e2cec",
   "metadata": {},
   "outputs": [],
   "source": [
    "plt.savefig(\"figure.svg\", format=\"svg\", dpi=300)"
   ]
  },
  {
   "cell_type": "markdown",
   "id": "7e9cb6ef",
   "metadata": {},
   "source": [
    "### 1.6 Export as PGF\n",
    "* Lossless\n",
    "* Figure text font matches document\n",
    "* Text is searchable (as it is actually text)\n",
    "* Smaller file size\n",
    "* Increased compile time/memory\n",
    "* Can be directly used with `\\input{figure.pgf}` in LaTeX\n",
    "* Use `\\showthe\\textwidth` to get the width of your LaTeX text in pixel as reference for your figure"
   ]
  },
  {
   "cell_type": "code",
   "execution_count": null,
   "id": "6bab494c",
   "metadata": {},
   "outputs": [],
   "source": [
    "mpl.use(\"pgf\")\n",
    "mpl.rcParams.update({\n",
    "    \"pgf.texsystem\": \"pdflatex\",\n",
    "    \"font.family\": \"serif\",\n",
    "    \"text.usetex\": True,\n",
    "    \"pgf.rcfonts\": False,\n",
    "})\n",
    "plt.savefig(\"figure.svg\", format=\"pgf\", backend=\"pgf\", dpi=300)"
   ]
  },
  {
   "cell_type": "markdown",
   "id": "64423c7a",
   "metadata": {},
   "source": [
    "# 2. Interactive 2D & 3D plots with Plotly"
   ]
  },
  {
   "cell_type": "code",
   "execution_count": null,
   "id": "414d2a1c",
   "metadata": {},
   "outputs": [],
   "source": [
    "df = pd.read_csv(\"../data/bugs.txt\", sep='\\t')\n",
    "python = df.groupby('group').get_group('Python')\n",
    "scheme = df.groupby('group').get_group('Scheme')\n",
    "\n",
    "dpi = 100\n",
    "fig, ax = plt.subplots(figsize=(900 / dpi, 600 / dpi), dpi=dpi, tight_layout=True)\n",
    "\n",
    "ax.spines.top.set_visible(False)\n",
    "ax.spines.right.set_visible(False)\n",
    "\n",
    "data = python.sort_values('lines')\n",
    "xlimits = [0, 55]\n",
    "ylimits = [155, 185]\n",
    "xstep = 5\n",
    "ystep = 5\n",
    "\n",
    "x = np.arange(1.5, 76.5, 1.5)\n",
    "m, b = np.polyfit(x, data['bugs'].values, 1)\n",
    "ax.scatter(x, data['bugs'], facecolor=[(31 / 255, 119 / 255, 180 / 255, 1)], s=12)\n",
    "ax.plot(x, m * x + b, color=(31 / 255, 119 / 255, 180 / 255, 1), linestyle=\"--\", label=\"Python\")\n",
    "\n",
    "x = np.arange(1, 51, 1)\n",
    "m, b = np.polyfit(x, data['bugs'].values, 1)\n",
    "ax.scatter(x, data['bugs'], facecolor=[(255 / 255, 187 / 255, 120 / 255, 1)], s=12)\n",
    "ax.plot(x, m * x + b, color=(255 / 255, 187 / 255, 120 / 255, 1), linestyle=\"--\", label=\"Scheme\")\n",
    "\n",
    "ax.set_xlim(xlimits)\n",
    "ax.set_ylim(ylimits)\n",
    "plt.xticks(np.arange(xlimits[0], xlimits[1] + 1, xstep), fontsize=10)\n",
    "ax.set_xlabel('Lines of code', fontsize=12, labelpad=20)\n",
    "ax.set_ylabel('Number of bugs', fontsize=12, labelpad=20)\n",
    "ax.spines.left.set_position(('axes', -0.05))\n",
    "ax.spines.bottom.set_position(('axes', -0.05))\n",
    "plt.yticks(np.arange(ylimits[0], ylimits[1] + 1, ystep), fontsize=10)\n",
    "ax.legend(frameon=False, loc=\"lower right\")\n",
    "plt.show()"
   ]
  },
  {
   "cell_type": "code",
   "execution_count": null,
   "id": "8a80688a",
   "metadata": {
    "scrolled": false
   },
   "outputs": [],
   "source": [
    "import plotly.graph_objects as go\n",
    "import plotly.io as pio\n",
    "from plotly.colors import qualitative\n",
    "\n",
    "colors = qualitative.Plotly\n",
    "fig = go.Figure()\n",
    "\n",
    "x = np.arange(1.5, 76.5, 1.5)\n",
    "m, b = np.polyfit(x, data[\"bugs\"].values, 1)\n",
    "fig.add_trace(go.Scatter(name=\"Python\",\n",
    "                         x=x,\n",
    "                         y=m * x + b,\n",
    "                         hovertemplate=\"%{y:.2f}\",\n",
    "                         mode=\"lines\",\n",
    "                         marker_color=colors[0],\n",
    "                         line=dict(dash=\"dash\", width=2)))\n",
    "fig.add_trace(go.Scatter(x=x,\n",
    "                         y=data[\"bugs\"],\n",
    "                         mode=\"markers\",\n",
    "                         marker=dict(color=colors[0], size=7),\n",
    "                         showlegend=False,\n",
    "                         hoverinfo=\"none\"))\n",
    "\n",
    "x = np.arange(1, 51, 1)\n",
    "m, b = np.polyfit(x, data[\"bugs\"].values, 1)\n",
    "fig.add_trace(go.Scatter(name=\"Scheme\",\n",
    "                         x=x,\n",
    "                         y=m * x + b,\n",
    "                         hovertemplate=\"%{y:.2f}\",\n",
    "                         mode=\"lines\",\n",
    "                         marker_color=colors[4],\n",
    "                         line=dict(dash=\"dash\", width=2)))\n",
    "fig.add_trace(go.Scatter(x=x,\n",
    "                         y=data[\"bugs\"],\n",
    "                         mode=\"markers\",\n",
    "                         marker=dict(color=colors[4], size=7),\n",
    "                         showlegend=False,\n",
    "                         hoverinfo=\"none\"))\n",
    "\n",
    "fig.update_layout(xaxis=dict(\n",
    "                    zeroline=False,\n",
    "                    tick0=0,\n",
    "                    dtick=5,\n",
    "                    range=[0, 55],\n",
    "                    constrain=\"domain\",\n",
    "                    showgrid=False,\n",
    "                    title=\"Lines of code\",\n",
    "                    titlefont_size=16,\n",
    "                    tickfont_size=14),\n",
    "                yaxis=dict(\n",
    "                    zeroline=False,\n",
    "                    tick0=155,\n",
    "                    dtick=5,\n",
    "                    range=[155, 185],\n",
    "                    constrain=\"domain\",\n",
    "                    showgrid=False,\n",
    "                    title=\"Number of bugs\",\n",
    "                    titlefont_size=16,\n",
    "                    tickfont_size=14),\n",
    "                legend=dict(\n",
    "                    font=dict(size=16),\n",
    "                    xanchor=\"right\",\n",
    "                    yanchor=\"bottom\",\n",
    "                    y=0.1,\n",
    "                    bgcolor='rgba(0, 0, 0, 0)',\n",
    "                    bordercolor='rgba(0, 0, 0, 0)'),\n",
    "                  template=\"plotly_white\",\n",
    "                  hoverlabel=dict(font_size=14),\n",
    "                  hovermode=\"x\",\n",
    "                  width=900,\n",
    "                  height=600,\n",
    "                  margin=dict(r=0, l=0, b=0, t=0, pad=0))\n",
    "fig.show()"
   ]
  },
  {
   "cell_type": "code",
   "execution_count": null,
   "id": "c7af4bcf",
   "metadata": {},
   "outputs": [],
   "source": [
    "pio.write_html(fig,\n",
    "               file=\"figure.html\",\n",
    "               config=dict(displayModeBar=False),\n",
    "               full_html=False,\n",
    "               include_plotlyjs=True)"
   ]
  }
 ],
 "metadata": {
  "kernelspec": {
   "display_name": "Python 3 (ipykernel)",
   "language": "python",
   "name": "python3"
  },
  "language_info": {
   "codemirror_mode": {
    "name": "ipython",
    "version": 3
   },
   "file_extension": ".py",
   "mimetype": "text/x-python",
   "name": "python",
   "nbconvert_exporter": "python",
   "pygments_lexer": "ipython3",
   "version": "3.8.8"
  }
 },
 "nbformat": 4,
 "nbformat_minor": 5
}
